{
 "cells": [
  {
   "cell_type": "code",
   "execution_count": 1,
   "metadata": {},
   "outputs": [
    {
     "ename": "ModuleNotFoundError",
     "evalue": "No module named 'tensorflow'",
     "output_type": "error",
     "traceback": [
      "\u001b[31m---------------------------------------------------------------------------\u001b[39m",
      "\u001b[31mModuleNotFoundError\u001b[39m                       Traceback (most recent call last)",
      "\u001b[36mCell\u001b[39m\u001b[36m \u001b[39m\u001b[32mIn[1]\u001b[39m\u001b[32m, line 1\u001b[39m\n\u001b[32m----> \u001b[39m\u001b[32m1\u001b[39m \u001b[38;5;28;01mimport\u001b[39;00m\u001b[38;5;250m \u001b[39m\u001b[34;01mtensorflow\u001b[39;00m\u001b[38;5;250m \u001b[39m\u001b[38;5;28;01mas\u001b[39;00m\u001b[38;5;250m \u001b[39m\u001b[34;01mtf\u001b[39;00m\n\u001b[32m      2\u001b[39m \u001b[38;5;28;01mimport\u001b[39;00m\u001b[38;5;250m \u001b[39m\u001b[34;01mnumpy\u001b[39;00m\u001b[38;5;250m \u001b[39m\u001b[38;5;28;01mas\u001b[39;00m\u001b[38;5;250m \u001b[39m\u001b[34;01mnp\u001b[39;00m\n\u001b[32m      3\u001b[39m \u001b[38;5;28;01mimport\u001b[39;00m\u001b[38;5;250m \u001b[39m\u001b[34;01mmatplotlib\u001b[39;00m\u001b[34;01m.\u001b[39;00m\u001b[34;01mpyplot\u001b[39;00m\u001b[38;5;250m \u001b[39m\u001b[38;5;28;01mas\u001b[39;00m\u001b[38;5;250m \u001b[39m\u001b[34;01mplt\u001b[39;00m\n",
      "\u001b[31mModuleNotFoundError\u001b[39m: No module named 'tensorflow'"
     ]
    }
   ],
   "source": [
    "import tensorflow as tf\n",
    "import numpy as np\n",
    "import matplotlib.pyplot as plt\n",
    "\n",
    "# 設置隨機種子以確保結果可重現\n",
    "np.random.seed(42)\n",
    "tf.random.set_seed(42)\n",
    "\n",
    "# 生成一些示例數據\n",
    "def generate_data():\n",
    "    # 創建一個簡單的線性關係 y = 2x + 1 + 噪聲\n",
    "    x = np.linspace(0, 10, 100)\n",
    "    y = 2 * x + 1 + np.random.normal(0, 1, 100)\n",
    "    return x, y\n",
    "\n",
    "# 創建模型\n",
    "def create_model():\n",
    "    model = tf.keras.Sequential([\n",
    "        tf.keras.layers.Dense(1, input_shape=(1,))\n",
    "    ])\n",
    "    model.compile(optimizer='sgd', loss='mse')\n",
    "    return model\n",
    "\n",
    "# 主函數\n",
    "def main():\n",
    "    # 生成數據\n",
    "    x, y = generate_data()\n",
    "    \n",
    "    # 創建模型\n",
    "    model = create_model()\n",
    "    \n",
    "    # 訓練模型\n",
    "    history = model.fit(x, y, epochs=100, verbose=0)\n",
    "    \n",
    "    # 預測\n",
    "    y_pred = model.predict(x)\n",
    "    \n",
    "    # 繪製結果\n",
    "    plt.figure(figsize=(10, 6))\n",
    "    plt.scatter(x, y, label='實際數據')\n",
    "    plt.plot(x, y_pred, 'r-', label='預測')\n",
    "    plt.xlabel('X')\n",
    "    plt.ylabel('Y')\n",
    "    plt.title('TensorFlow 線性回歸演示')\n",
    "    plt.legend()\n",
    "    plt.grid(True)\n",
    "    plt.savefig('tensorflow_demo_result.png')\n",
    "    plt.close()\n",
    "    \n",
    "    # 打印模型參數\n",
    "    weights, bias = model.layers[0].get_weights()\n",
    "    print(f\"學習到的參數: 權重 = {weights[0][0]:.4f}, 偏置 = {bias[0]:.4f}\")\n",
    "    print(f\"實際參數: 權重 = 2.0000, 偏置 = 1.0000\")\n",
    "\n",
    "if __name__ == \"__main__\":\n",
    "    main()"
   ]
  }
 ],
 "metadata": {
  "kernelspec": {
   "display_name": "Python 3",
   "language": "python",
   "name": "python3"
  },
  "language_info": {
   "codemirror_mode": {
    "name": "ipython",
    "version": 3
   },
   "file_extension": ".py",
   "mimetype": "text/x-python",
   "name": "python",
   "nbconvert_exporter": "python",
   "pygments_lexer": "ipython3",
   "version": "3.13.2"
  }
 },
 "nbformat": 4,
 "nbformat_minor": 2
}
