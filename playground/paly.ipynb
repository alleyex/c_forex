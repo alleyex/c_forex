{
 "cells": [
  {
   "cell_type": "code",
   "execution_count": 1,
   "metadata": {},
   "outputs": [],
   "source": [
    "usdjpy_filename = \"usdjpy-m1.csv\""
   ]
  },
  {
   "cell_type": "code",
   "execution_count": 2,
   "metadata": {},
   "outputs": [
    {
     "name": "stdout",
     "output_type": "stream",
     "text": [
      "usdjpy-m1.csv 載入成功。\n"
     ]
    }
   ],
   "source": [
    "from forex_utils import DataPreprocessing\n",
    "\n",
    "tool = DataPreprocessing()\n",
    "raw_data = tool.load_csv(usdjpy_filename)"
   ]
  },
  {
   "cell_type": "code",
   "execution_count": 3,
   "metadata": {},
   "outputs": [
    {
     "name": "stdout",
     "output_type": "stream",
     "text": [
      "Feature Engineering: (100529, 17)\n",
      "feature_scaling    : (100476, 26)\n",
      "Features & Lables  : (100476, 2)      Number of Features:  9\n",
      "windowed Size = 8  : (100468, 9)\n",
      "Reshaped Data: (100368, 8, 9)\n",
      "Reshaped Data: (100, 8, 9)\n"
     ]
    }
   ],
   "source": [
    "from forex_utils import FeatureEngineering\n",
    "\n",
    "ef = FeatureEngineering()\n",
    "\n",
    "# 設置參數\n",
    "window_size = 8\n",
    "test_size = 100\n",
    "\n",
    "indi_df = ef.create_indicators(raw_data)\n",
    "scal_df = ef.feature_scaling(indi_df)\n",
    "feat_df, feature_size = ef.create_features(scal_df)\n",
    "wind_df = ef.windowed(feat_df, window_size)\n",
    "\n",
    "\n",
    "test_data = wind_df.tail(test_size)\n",
    "train_data = wind_df.head(-test_size)\n",
    "\n",
    "X_test = test_data.iloc[:, :window_size].tail(test_size)\n",
    "y_test = test_data.y.tail(test_size).to_numpy()\n",
    "\n",
    "# 提取訓練數據的特徵和標籤\n",
    "X_train = train_data.iloc[:, :window_size]\n",
    "y_train = train_data.iloc[:, -1:].to_numpy()\n",
    "\n",
    "X_train = tool.prepare_sequence_data(X_train, window_size, feature_size)\n",
    "X_test  = tool.prepare_sequence_data(X_test, window_size, feature_size)"
   ]
  },
  {
   "cell_type": "code",
   "execution_count": 4,
   "metadata": {},
   "outputs": [],
   "source": [
    "import tensorflow as tf\n",
    "\n",
    "def create_model(window_size, features, lay01 = 32, lay02 = 8, l2 = 0):\n",
    "  model = tf.keras.models.Sequential([\n",
    "      tf.keras.layers.Input(shape = (window_size, features)),\n",
    "      tf.keras.layers.LSTM(units = lay01, return_sequences = True, kernel_regularizer = tf.keras.regularizers.l2(l2)),\n",
    "      tf.keras.layers.LSTM(units = lay02, kernel_regularizer = tf.keras.regularizers.l2(l2)),\n",
    "      tf.keras.layers.Dense(1)\n",
    "    ])\n",
    "\n",
    "  return model"
   ]
  },
  {
   "cell_type": "code",
   "execution_count": 5,
   "metadata": {},
   "outputs": [],
   "source": [
    "from IPython.display import display, clear_output\n",
    "import matplotlib.pyplot as plt\n",
    "def initialize_plot(metrics):\n",
    "  plt.ion()\n",
    "  fig, ax = plt.subplots(figsize=(12, 6))\n",
    "  ax.set_xlabel(\"Epochs\")\n",
    "  ax.set_ylabel(\"Loss\")\n",
    "  lines_dict = {metric: ax.plot([], [], label=metric)[0] for metric in metrics}\n",
    "  losses_dict = {metric: [] for metric in metrics}\n",
    "\n",
    "  ax.xaxis.set_major_locator(plt.MaxNLocator(integer=True))\n",
    "  ax.grid(True)\n",
    "  ax.legend()\n",
    "  return fig, ax, lines_dict, losses_dict\n",
    "\n",
    "def on_epoch_end(epoch, logs, losses_dict, lines_dict, ax, fig):\n",
    "  for key in losses_dict.keys():\n",
    "    losses_dict[key].append(logs[key])\n",
    "    lines_dict[key].set_xdata(range(epoch + 1))\n",
    "    lines_dict[key].set_ydata(losses_dict[key])\n",
    "\n",
    "  ax.relim()\n",
    "  ax.autoscale_view()\n",
    "  ax.legend()\n",
    "  display(fig)\n",
    "  clear_output(wait = True)\n",
    "\n",
    "def create_plot_callback(metrics = [\"loss\"]):\n",
    "  fig, ax, lines_dict, losses_dict = initialize_plot(metrics)\n",
    "  callback = lambda epoch, logs: on_epoch_end(epoch, logs, losses_dict, lines_dict, ax, fig)\n",
    "\n",
    "  return tf.keras.callbacks.LambdaCallback(on_epoch_end = callback)"
   ]
  },
  {
   "cell_type": "code",
   "execution_count": 6,
   "metadata": {},
   "outputs": [
    {
     "data": {
      "image/png": "[encoded data removed]",
      "text/plain": [
       "<Figure size 1200x600 with 1 Axes>"
      ]
     },
     "metadata": {},
     "output_type": "display_data"
    }
   ],
   "source": [
    "\n",
    "\n",
    "X_train = X_train.astype('float32')\n",
    "y_train = y_train.astype('float32')\n",
    "\n",
    "initial_learning_rate=1e-7\n",
    "lr_schedule = tf.keras.optimizers.schedules.ExponentialDecay(\n",
    "initial_learning_rate,\n",
    "decay_steps=400,\n",
    "decay_rate=0.96,\n",
    "staircase=True)\n",
    "\n",
    "optimizer = tf.keras.optimizers.Adam(learning_rate=lr_schedule)\n",
    "\n",
    "model = create_model(window_size, feature_size)\n",
    "\n",
    "model.compile(loss = \"mse\", optimizer = optimizer)\n",
    "\n",
    "early_stopping = tf.keras.callbacks.EarlyStopping(\n",
    "    monitor = \"val_loss\",\n",
    "    patience = 10,\n",
    "    restore_best_weights = True\n",
    "    )\n",
    "\n",
    "\n",
    "model.compile(loss = \"mse\", optimizer = optimizer)\n",
    "\n",
    "plot_callback = create_plot_callback([\"loss\",\"val_loss\"])\n",
    "model.history = model.fit(X_train, y_train, batch_size = 64, epochs = 40, validation_split= 0.1,\n",
    "                    callbacks = [plot_callback, early_stopping], verbose = 0)"
   ]
  }
 ],
 "metadata": {
  "kernelspec": {
   "display_name": "Python 3",
   "language": "python",
   "name": "python3"
  },
  "language_info": {
   "codemirror_mode": {
    "name": "ipython",
    "version": 3
   },
   "file_extension": ".py",
   "mimetype": "text/x-python",
   "name": "python",
   "nbconvert_exporter": "python",
   "pygments_lexer": "ipython3",
   "version": "3.11.9"
  }
 },
 "nbformat": 4,
 "nbformat_minor": 2
}
