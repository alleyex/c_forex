{
 "cells": [
  {
   "cell_type": "markdown",
   "metadata": {},
   "source": [
    "# 下載 USD/JPY 外匯數據\n",
    "\n",
    "這個 notebook 用於下載 USD/JPY 的外匯數據。我們使用 `requests` 庫從 GitHub 倉庫下載 CSV 文件。\n",
    "\n",
    "數據來源：https://github.com/alleyex/c_forex"
   ]
  },
  {
   "cell_type": "code",
   "execution_count": 1,
   "metadata": {},
   "outputs": [],
   "source": [
    "# 導入 requests 庫用於發送 HTTP 請求\n",
    "import requests\n",
    "\n",
    "# 設置 GitHub 原始文件的 URL\n",
    "url = \"https://raw.githubusercontent.com/alleyex/c_forex/refs/heads/main/playground/usdjpy-m1.csv\"\n",
    "\n",
    "# 發送 GET 請求獲取文件內容\n",
    "response = requests.get(url)\n",
    "\n",
    "# 將文件內容寫入本地文件\n",
    "# 'wb' 模式用於寫入二進制數據\n",
    "with open(\"usdjpy-m1.csv\", \"wb\") as f:\n",
    "    f.write(response.content)\n",
    "\n",
    "# 文件已成功下載到當前目錄"
   ]
  },
  {
   "cell_type": "code",
   "execution_count": null,
   "metadata": {},
   "outputs": [
    {
     "name": "stdout",
     "output_type": "stream",
     "text": [
      "文件 'usdjpy-m1.csv' 已存在，跳過下載。\n"
     ]
    }
   ],
   "source": [
    "# 導入必要的庫\n",
    "import requests\n",
    "import os\n",
    "\n",
    "# 設置文件名和 URL\n",
    "filename = \"usdjpy-m1.csv\"\n",
    "url = \"https://raw.githubusercontent.com/alleyex/c_forex/refs/heads/main/playground/usdjpy-m1.csv\"\n",
    "\n",
    "# 檢查文件是否已存在\n",
    "if os.path.exists(filename):\n",
    "    print(f\"文件 '{filename}' 已存在，跳過下載。\")\n",
    "else:\n",
    "    # 發送 GET 請求獲取文件內容\n",
    "    response = requests.get(url)\n",
    "    \n",
    "    # 將文件內容寫入本地文件\n",
    "    with open(filename, \"wb\") as f:\n",
    "        f.write(response.content)\n",
    "    \n",
    "    print(f\"文件 '{filename}' 已成功下載到當前目錄。\")"
   ]
  },
  {
   "cell_type": "code",
   "execution_count": 14,
   "metadata": {},
   "outputs": [
    {
     "name": "stdout",
     "output_type": "stream",
     "text": [
      "文件 'usdjpy-m1.csv' 已成功下載到當前目錄。\n",
      "文件 'forex_utils.py' 已成功下載到當前目錄。\n"
     ]
    },
    {
     "data": {
      "text/plain": [
       "True"
      ]
     },
     "execution_count": 14,
     "metadata": {},
     "output_type": "execute_result"
    }
   ],
   "source": [
    "def download_file(filename, url):\n",
    "    \"\"\"\n",
    "    通用文件下載函數\n",
    "    \n",
    "    參數:\n",
    "        filename (str): 要保存的文件名\n",
    "        url (str): 文件的 URL\n",
    "        \n",
    "    返回:\n",
    "        bool: 下載是否成功\n",
    "    \"\"\"\n",
    "    import requests\n",
    "    import os\n",
    "    \n",
    "    # 檢查文件是否已存在\n",
    "    if os.path.exists(filename):\n",
    "        print(f\"文件 '{filename}' 已存在，跳過下載。\")\n",
    "        return True\n",
    "    \n",
    "    try:\n",
    "        # 發送 GET 請求獲取文件內容\n",
    "        response = requests.get(url)\n",
    "        response.raise_for_status()  # 檢查請求是否成功\n",
    "        \n",
    "        # 將文件內容寫入本地文件\n",
    "        with open(filename, \"wb\") as f:\n",
    "            f.write(response.content)\n",
    "        \n",
    "        print(f\"文件 '{filename}' 已成功下載到當前目錄。\")\n",
    "        return True\n",
    "    except Exception as e:\n",
    "        print(f\"下載文件時發生錯誤：{str(e)}\")\n",
    "        return False\n",
    "    \n",
    " # 下載 USD/JPY 數據文件\n",
    "usdjpy_filename = \"usdjpy-m1.csv\"\n",
    "usdjpy_url = \"https://raw.githubusercontent.com/alleyex/c_forex/refs/heads/main/playground/usdjpy-m1.csv\"\n",
    "download_file(usdjpy_filename, usdjpy_url)\n",
    "\n",
    "# 下載 forex_utils.py 文件\n",
    "forex_utils_filename = \"forex_utils.py\"\n",
    "forex_utils_url = \"https://raw.githubusercontent.com/alleyex/c_forex/refs/heads/main/playground/forex_utils.py\"\n",
    "download_file(forex_utils_filename, forex_utils_url)"
   ]
  },
  {
   "cell_type": "code",
   "execution_count": 15,
   "metadata": {},
   "outputs": [
    {
     "name": "stdout",
     "output_type": "stream",
     "text": [
      "數據前 5 行：\n",
      "                 time     open     high      low    close  tick_volume  \\\n",
      "0 2024-05-24 15:22:00  157.084  157.088  157.071  157.072         36.0   \n",
      "1 2024-05-24 15:23:00  157.075  157.076  157.063  157.064         26.0   \n",
      "2 2024-05-24 15:24:00  157.065  157.078  157.065  157.075         23.0   \n",
      "3 2024-05-24 15:25:00  157.076  157.100  157.075  157.090         28.0   \n",
      "4 2024-05-24 15:26:00  157.094  157.100  157.079  157.079         21.0   \n",
      "\n",
      "   spread  real_volume  \n",
      "0       3          0.0  \n",
      "1       3          0.0  \n",
      "2       4          0.0  \n",
      "3       2          0.0  \n",
      "4       3          0.0  \n",
      "\n",
      "數據基本信息：\n",
      "<class 'pandas.core.frame.DataFrame'>\n",
      "RangeIndex: 100529 entries, 0 to 100528\n",
      "Data columns (total 8 columns):\n",
      " #   Column       Non-Null Count   Dtype         \n",
      "---  ------       --------------   -----         \n",
      " 0   time         100529 non-null  datetime64[ns]\n",
      " 1   open         100529 non-null  float64       \n",
      " 2   high         100529 non-null  float64       \n",
      " 3   low          100529 non-null  float64       \n",
      " 4   close        100529 non-null  float64       \n",
      " 5   tick_volume  100529 non-null  float64       \n",
      " 6   spread       100529 non-null  int64         \n",
      " 7   real_volume  100529 non-null  float64       \n",
      "dtypes: datetime64[ns](1), float64(6), int64(1)\n",
      "memory usage: 6.1 MB\n",
      "None\n",
      "\n",
      "數據統計摘要：\n",
      "                                time           open           high  \\\n",
      "count                         100529  100529.000000  100529.000000   \n",
      "mean   2024-07-13 19:43:03.709377280     154.117954     154.132517   \n",
      "min              2024-05-24 15:22:00     141.700000     141.791000   \n",
      "25%              2024-06-19 02:32:00     147.351000     147.372000   \n",
      "50%              2024-07-15 01:40:00     156.685000     156.694000   \n",
      "75%              2024-08-07 12:50:00     158.118000     158.128000   \n",
      "max              2024-08-30 23:58:00     161.947000     161.950000   \n",
      "std                              NaN       5.764148       5.758569   \n",
      "\n",
      "                 low          close    tick_volume         spread  real_volume  \n",
      "count  100529.000000  100529.000000  100529.000000  100529.000000     100529.0  \n",
      "mean      154.103115     154.117872      37.269882       4.732416          0.0  \n",
      "min       141.689000     141.695000       1.000000       0.000000          0.0  \n",
      "25%       147.333000     147.352000      19.000000       1.000000          0.0  \n",
      "50%       156.674000     156.685000      34.000000       2.000000          0.0  \n",
      "75%       158.109000     158.118000      52.000000       5.000000          0.0  \n",
      "max       161.945000     161.947000     269.000000     350.000000          0.0  \n",
      "std         5.769843       5.764224      23.325824      10.235989          0.0  \n"
     ]
    }
   ],
   "source": [
    "# 導入 pandas 庫\n",
    "import pandas as pd\n",
    "\n",
    "# 讀取 CSV 文件\n",
    "df = pd.read_csv('usdjpy-m1.csv')\n",
    "\n",
    "# 將時間列轉換為日期時間格式\n",
    "df['time'] = pd.to_datetime(df['time'], unit='s')\n",
    "\n",
    "# 顯示前幾行數據\n",
    "print(\"數據前 5 行：\")\n",
    "print(df.head())\n",
    "\n",
    "# 顯示數據基本信息\n",
    "print(\"\\n數據基本信息：\")\n",
    "print(df.info())\n",
    "\n",
    "# 顯示數據統計摘要\n",
    "print(\"\\n數據統計摘要：\")\n",
    "print(df.describe())"
   ]
  },
  {
   "cell_type": "code",
   "execution_count": null,
   "metadata": {},
   "outputs": [],
   "source": [
    "from FeatureEngineering import FeatureEngineering\n",
    "from datetime import datetime, timedelta\n",
    "\n",
    "import tensorflow as tf\n",
    "import numpy as np\n",
    "\n",
    "tool = FeatureEngineering()\n",
    "\n",
    "# 設置參數\n",
    "window_size = 8\n",
    "test_size = 100\n",
    "\n",
    "indi_df = tool.create_indicators(raw_data)\n",
    "scal_df = tool.feature_scaling(indi_df)\n",
    "feat_df, feature_size = tool.create_features(scal_df)\n",
    "wind_df = tool.windowed(feat_df, window_size)\n",
    "\n",
    " # 分割測試數據和訓練數據\n",
    "test_data = wind_df.tail(test_size)\n",
    "train_data = wind_df.head(-test_size)\n",
    "\n",
    "X_test = test_data.iloc[:, :window_size].tail(test_size)\n",
    "y_test = test_data.y.tail(test_size).to_numpy()\n",
    "\n",
    "# 打亂訓練數據\n",
    "# train_data = train_data.sample(frac=1, random_state=2).reset_index(drop=True)\n",
    "train_data = train_data.sample(frac=1).reset_index(drop=True)\n",
    "\n",
    "# 提取訓練數據的特徵和標籤\n",
    "X_train = train_data.iloc[:, :window_size]\n",
    "y_train = train_data.iloc[:, -1:].to_numpy()\n",
    "\n",
    "X_train = tool.process_data(X_train, window_size, feature_size)\n",
    "X_test = tool.process_data(X_test, window_size, feature_size)"
   ]
  }
 ],
 "metadata": {
  "kernelspec": {
   "display_name": "Python 3",
   "language": "python",
   "name": "python3"
  },
  "language_info": {
   "codemirror_mode": {
    "name": "ipython",
    "version": 3
   },
   "file_extension": ".py",
   "mimetype": "text/x-python",
   "name": "python",
   "nbconvert_exporter": "python",
   "pygments_lexer": "ipython3",
   "version": "3.13.2"
  }
 },
 "nbformat": 4,
 "nbformat_minor": 2
}
